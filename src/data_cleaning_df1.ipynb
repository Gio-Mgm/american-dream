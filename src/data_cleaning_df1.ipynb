{
 "metadata": {
  "language_info": {
   "codemirror_mode": {
    "name": "ipython",
    "version": 3
   },
   "file_extension": ".py",
   "mimetype": "text/x-python",
   "name": "python",
   "nbconvert_exporter": "python",
   "pygments_lexer": "ipython3",
   "version": "3.7.6-final"
  },
  "orig_nbformat": 2,
  "kernelspec": {
   "name": "python3",
   "display_name": "Python 3",
   "language": "python"
  }
 },
 "nbformat": 4,
 "nbformat_minor": 2,
 "cells": [
  {
   "source": [
    "# Data Cleaning\n"
   ],
   "cell_type": "markdown",
   "metadata": {}
  },
  {
   "cell_type": "code",
   "execution_count": 8,
   "metadata": {},
   "outputs": [],
   "source": [
    "import pandas as pd\n",
    "\n",
    "\n",
    "survey_path = \"../data/01_raw/2020_Data_Professional_Salary_Survey_Responses.xlsx\"\n",
    "\n",
    "df1 = pd.read_excel(survey_path, skiprows=2)"
   ]
  },
  {
   "cell_type": "code",
   "execution_count": 9,
   "metadata": {},
   "outputs": [
    {
     "output_type": "execute_result",
     "data": {
      "text/plain": [
       "   Survey Year               Timestamp  SalaryUSD        Country PostalCode  \\\n",
       "0         2020 2020-01-04 18:50:34.328   115000.0  United States         03   \n",
       "1         2020 2020-01-04 10:43:01.821   100000.0  United States        NaN   \n",
       "2         2020 2020-01-04 09:51:45.885   100000.0          Spain      28046   \n",
       "3         2020 2020-01-04 01:08:53.605    70000.0  United States      94133   \n",
       "4         2020 2020-01-03 15:28:54.163   110000.0  United States      95354   \n",
       "\n",
       "        PrimaryDatabase  YearsWithThisDatabase  \\\n",
       "0  Microsoft SQL Server                     15   \n",
       "1                 Other                      6   \n",
       "2  Microsoft SQL Server                      2   \n",
       "3  Microsoft SQL Server                      3   \n",
       "4                Oracle                     30   \n",
       "\n",
       "                                      OtherDatabases    EmploymentStatus  \\\n",
       "0  Microsoft SQL Server, MongoDB, Azure SQL DB (a...  Full time employee   \n",
       "1                                      MySQL/MariaDB  Full time employee   \n",
       "2                                      MySQL/MariaDB  Full time employee   \n",
       "3                                   Microsoft Access  Full time employee   \n",
       "4  Microsoft SQL Server, Oracle, MySQL/MariaDB, P...  Full time employee   \n",
       "\n",
       "                                            JobTitle  ...  \\\n",
       "0  DBA (Production Focus - build & troubleshoot s...  ...   \n",
       "1                  Developer: App code (C#, JS, etc)  ...   \n",
       "2                                              Other  ...   \n",
       "3                                            Analyst  ...   \n",
       "4  DBA (General - splits time evenly between writ...  ...   \n",
       "\n",
       "  NewestVersionInProduction  OldestVersionInProduction  \\\n",
       "0           SQL Server 2019            SQL Server 2016   \n",
       "1                  informix                   informix   \n",
       "2           SQL Server 2017            SQL Server 2017   \n",
       "3           SQL Server 2016            SQL Server 2012   \n",
       "4           SQL Server 2016          SQL Server 2008R2   \n",
       "\n",
       "  PopulationOfLargestCityWithin20Miles  EmploymentSector LookingForAnotherJob  \\\n",
       "0                 20K-99K (large town)  Private business            Not Asked   \n",
       "1                     1M+ (metropolis)  Private business            Not Asked   \n",
       "2                     1M+ (metropolis)  Private business            Not Asked   \n",
       "3                     1M+ (metropolis)  Private business            Not Asked   \n",
       "4                     100K-299K (city)        Non-profit            Not Asked   \n",
       "\n",
       "                      CareerPlansThisYear Gender OtherJobDuties  \\\n",
       "0  Stay with the same employer, same role   Male      Not Asked   \n",
       "1                       Prefer not to say   Male      Not Asked   \n",
       "2  Stay with the same employer, same role   Male      Not Asked   \n",
       "3         Change both employers and roles   Male      Not Asked   \n",
       "4  Stay with the same employer, same role   Male      Not Asked   \n",
       "\n",
       "  KindsOfTasksPerformed Counter  \n",
       "0             Not Asked       1  \n",
       "1             Not Asked       1  \n",
       "2             Not Asked       1  \n",
       "3             Not Asked       1  \n",
       "4             Not Asked       1  \n",
       "\n",
       "[5 rows x 31 columns]"
      ],
      "text/html": "<div>\n<style scoped>\n    .dataframe tbody tr th:only-of-type {\n        vertical-align: middle;\n    }\n\n    .dataframe tbody tr th {\n        vertical-align: top;\n    }\n\n    .dataframe thead th {\n        text-align: right;\n    }\n</style>\n<table border=\"1\" class=\"dataframe\">\n  <thead>\n    <tr style=\"text-align: right;\">\n      <th></th>\n      <th>Survey Year</th>\n      <th>Timestamp</th>\n      <th>SalaryUSD</th>\n      <th>Country</th>\n      <th>PostalCode</th>\n      <th>PrimaryDatabase</th>\n      <th>YearsWithThisDatabase</th>\n      <th>OtherDatabases</th>\n      <th>EmploymentStatus</th>\n      <th>JobTitle</th>\n      <th>...</th>\n      <th>NewestVersionInProduction</th>\n      <th>OldestVersionInProduction</th>\n      <th>PopulationOfLargestCityWithin20Miles</th>\n      <th>EmploymentSector</th>\n      <th>LookingForAnotherJob</th>\n      <th>CareerPlansThisYear</th>\n      <th>Gender</th>\n      <th>OtherJobDuties</th>\n      <th>KindsOfTasksPerformed</th>\n      <th>Counter</th>\n    </tr>\n  </thead>\n  <tbody>\n    <tr>\n      <th>0</th>\n      <td>2020</td>\n      <td>2020-01-04 18:50:34.328</td>\n      <td>115000.0</td>\n      <td>United States</td>\n      <td>03</td>\n      <td>Microsoft SQL Server</td>\n      <td>15</td>\n      <td>Microsoft SQL Server, MongoDB, Azure SQL DB (a...</td>\n      <td>Full time employee</td>\n      <td>DBA (Production Focus - build &amp; troubleshoot s...</td>\n      <td>...</td>\n      <td>SQL Server 2019</td>\n      <td>SQL Server 2016</td>\n      <td>20K-99K (large town)</td>\n      <td>Private business</td>\n      <td>Not Asked</td>\n      <td>Stay with the same employer, same role</td>\n      <td>Male</td>\n      <td>Not Asked</td>\n      <td>Not Asked</td>\n      <td>1</td>\n    </tr>\n    <tr>\n      <th>1</th>\n      <td>2020</td>\n      <td>2020-01-04 10:43:01.821</td>\n      <td>100000.0</td>\n      <td>United States</td>\n      <td>NaN</td>\n      <td>Other</td>\n      <td>6</td>\n      <td>MySQL/MariaDB</td>\n      <td>Full time employee</td>\n      <td>Developer: App code (C#, JS, etc)</td>\n      <td>...</td>\n      <td>informix</td>\n      <td>informix</td>\n      <td>1M+ (metropolis)</td>\n      <td>Private business</td>\n      <td>Not Asked</td>\n      <td>Prefer not to say</td>\n      <td>Male</td>\n      <td>Not Asked</td>\n      <td>Not Asked</td>\n      <td>1</td>\n    </tr>\n    <tr>\n      <th>2</th>\n      <td>2020</td>\n      <td>2020-01-04 09:51:45.885</td>\n      <td>100000.0</td>\n      <td>Spain</td>\n      <td>28046</td>\n      <td>Microsoft SQL Server</td>\n      <td>2</td>\n      <td>MySQL/MariaDB</td>\n      <td>Full time employee</td>\n      <td>Other</td>\n      <td>...</td>\n      <td>SQL Server 2017</td>\n      <td>SQL Server 2017</td>\n      <td>1M+ (metropolis)</td>\n      <td>Private business</td>\n      <td>Not Asked</td>\n      <td>Stay with the same employer, same role</td>\n      <td>Male</td>\n      <td>Not Asked</td>\n      <td>Not Asked</td>\n      <td>1</td>\n    </tr>\n    <tr>\n      <th>3</th>\n      <td>2020</td>\n      <td>2020-01-04 01:08:53.605</td>\n      <td>70000.0</td>\n      <td>United States</td>\n      <td>94133</td>\n      <td>Microsoft SQL Server</td>\n      <td>3</td>\n      <td>Microsoft Access</td>\n      <td>Full time employee</td>\n      <td>Analyst</td>\n      <td>...</td>\n      <td>SQL Server 2016</td>\n      <td>SQL Server 2012</td>\n      <td>1M+ (metropolis)</td>\n      <td>Private business</td>\n      <td>Not Asked</td>\n      <td>Change both employers and roles</td>\n      <td>Male</td>\n      <td>Not Asked</td>\n      <td>Not Asked</td>\n      <td>1</td>\n    </tr>\n    <tr>\n      <th>4</th>\n      <td>2020</td>\n      <td>2020-01-03 15:28:54.163</td>\n      <td>110000.0</td>\n      <td>United States</td>\n      <td>95354</td>\n      <td>Oracle</td>\n      <td>30</td>\n      <td>Microsoft SQL Server, Oracle, MySQL/MariaDB, P...</td>\n      <td>Full time employee</td>\n      <td>DBA (General - splits time evenly between writ...</td>\n      <td>...</td>\n      <td>SQL Server 2016</td>\n      <td>SQL Server 2008R2</td>\n      <td>100K-299K (city)</td>\n      <td>Non-profit</td>\n      <td>Not Asked</td>\n      <td>Stay with the same employer, same role</td>\n      <td>Male</td>\n      <td>Not Asked</td>\n      <td>Not Asked</td>\n      <td>1</td>\n    </tr>\n  </tbody>\n</table>\n<p>5 rows × 31 columns</p>\n</div>"
     },
     "metadata": {},
     "execution_count": 9
    }
   ],
   "source": [
    "df1.head()"
   ]
  },
  {
   "source": [
    "## Sélection des datas provennant des USA seulement"
   ],
   "cell_type": "markdown",
   "metadata": {}
  },
  {
   "cell_type": "code",
   "execution_count": 10,
   "metadata": {},
   "outputs": [
    {
     "output_type": "execute_result",
     "data": {
      "text/plain": [
       "   Survey Year               Timestamp  SalaryUSD        Country PostalCode  \\\n",
       "0         2020 2020-01-04 18:50:34.328   115000.0  United States         03   \n",
       "1         2020 2020-01-04 10:43:01.821   100000.0  United States        NaN   \n",
       "3         2020 2020-01-04 01:08:53.605    70000.0  United States      94133   \n",
       "4         2020 2020-01-03 15:28:54.163   110000.0  United States      95354   \n",
       "5         2020 2020-01-03 15:06:14.882    79500.0  United States      78727   \n",
       "\n",
       "        PrimaryDatabase  YearsWithThisDatabase  \\\n",
       "0  Microsoft SQL Server                     15   \n",
       "1                 Other                      6   \n",
       "3  Microsoft SQL Server                      3   \n",
       "4                Oracle                     30   \n",
       "5                Oracle                      2   \n",
       "\n",
       "                                      OtherDatabases    EmploymentStatus  \\\n",
       "0  Microsoft SQL Server, MongoDB, Azure SQL DB (a...  Full time employee   \n",
       "1                                      MySQL/MariaDB  Full time employee   \n",
       "3                                   Microsoft Access  Full time employee   \n",
       "4  Microsoft SQL Server, Oracle, MySQL/MariaDB, P...  Full time employee   \n",
       "5                                                NaN  Full time employee   \n",
       "\n",
       "                                            JobTitle  ...  \\\n",
       "0  DBA (Production Focus - build & troubleshoot s...  ...   \n",
       "1                  Developer: App code (C#, JS, etc)  ...   \n",
       "3                                            Analyst  ...   \n",
       "4  DBA (General - splits time evenly between writ...  ...   \n",
       "5                                            Analyst  ...   \n",
       "\n",
       "  NewestVersionInProduction  OldestVersionInProduction  \\\n",
       "0           SQL Server 2019            SQL Server 2016   \n",
       "1                  informix                   informix   \n",
       "3           SQL Server 2016            SQL Server 2012   \n",
       "4           SQL Server 2016          SQL Server 2008R2   \n",
       "5                Oracle R12                 Oracle 11g   \n",
       "\n",
       "  PopulationOfLargestCityWithin20Miles  EmploymentSector LookingForAnotherJob  \\\n",
       "0                 20K-99K (large town)  Private business            Not Asked   \n",
       "1                     1M+ (metropolis)  Private business            Not Asked   \n",
       "3                     1M+ (metropolis)  Private business            Not Asked   \n",
       "4                     100K-299K (city)        Non-profit            Not Asked   \n",
       "5                     1M+ (metropolis)  Private business            Not Asked   \n",
       "\n",
       "                      CareerPlansThisYear Gender OtherJobDuties  \\\n",
       "0  Stay with the same employer, same role   Male      Not Asked   \n",
       "1                       Prefer not to say   Male      Not Asked   \n",
       "3         Change both employers and roles   Male      Not Asked   \n",
       "4  Stay with the same employer, same role   Male      Not Asked   \n",
       "5  Stay with the same employer, same role   Male      Not Asked   \n",
       "\n",
       "  KindsOfTasksPerformed Counter  \n",
       "0             Not Asked       1  \n",
       "1             Not Asked       1  \n",
       "3             Not Asked       1  \n",
       "4             Not Asked       1  \n",
       "5             Not Asked       1  \n",
       "\n",
       "[5 rows x 31 columns]"
      ],
      "text/html": "<div>\n<style scoped>\n    .dataframe tbody tr th:only-of-type {\n        vertical-align: middle;\n    }\n\n    .dataframe tbody tr th {\n        vertical-align: top;\n    }\n\n    .dataframe thead th {\n        text-align: right;\n    }\n</style>\n<table border=\"1\" class=\"dataframe\">\n  <thead>\n    <tr style=\"text-align: right;\">\n      <th></th>\n      <th>Survey Year</th>\n      <th>Timestamp</th>\n      <th>SalaryUSD</th>\n      <th>Country</th>\n      <th>PostalCode</th>\n      <th>PrimaryDatabase</th>\n      <th>YearsWithThisDatabase</th>\n      <th>OtherDatabases</th>\n      <th>EmploymentStatus</th>\n      <th>JobTitle</th>\n      <th>...</th>\n      <th>NewestVersionInProduction</th>\n      <th>OldestVersionInProduction</th>\n      <th>PopulationOfLargestCityWithin20Miles</th>\n      <th>EmploymentSector</th>\n      <th>LookingForAnotherJob</th>\n      <th>CareerPlansThisYear</th>\n      <th>Gender</th>\n      <th>OtherJobDuties</th>\n      <th>KindsOfTasksPerformed</th>\n      <th>Counter</th>\n    </tr>\n  </thead>\n  <tbody>\n    <tr>\n      <th>0</th>\n      <td>2020</td>\n      <td>2020-01-04 18:50:34.328</td>\n      <td>115000.0</td>\n      <td>United States</td>\n      <td>03</td>\n      <td>Microsoft SQL Server</td>\n      <td>15</td>\n      <td>Microsoft SQL Server, MongoDB, Azure SQL DB (a...</td>\n      <td>Full time employee</td>\n      <td>DBA (Production Focus - build &amp; troubleshoot s...</td>\n      <td>...</td>\n      <td>SQL Server 2019</td>\n      <td>SQL Server 2016</td>\n      <td>20K-99K (large town)</td>\n      <td>Private business</td>\n      <td>Not Asked</td>\n      <td>Stay with the same employer, same role</td>\n      <td>Male</td>\n      <td>Not Asked</td>\n      <td>Not Asked</td>\n      <td>1</td>\n    </tr>\n    <tr>\n      <th>1</th>\n      <td>2020</td>\n      <td>2020-01-04 10:43:01.821</td>\n      <td>100000.0</td>\n      <td>United States</td>\n      <td>NaN</td>\n      <td>Other</td>\n      <td>6</td>\n      <td>MySQL/MariaDB</td>\n      <td>Full time employee</td>\n      <td>Developer: App code (C#, JS, etc)</td>\n      <td>...</td>\n      <td>informix</td>\n      <td>informix</td>\n      <td>1M+ (metropolis)</td>\n      <td>Private business</td>\n      <td>Not Asked</td>\n      <td>Prefer not to say</td>\n      <td>Male</td>\n      <td>Not Asked</td>\n      <td>Not Asked</td>\n      <td>1</td>\n    </tr>\n    <tr>\n      <th>3</th>\n      <td>2020</td>\n      <td>2020-01-04 01:08:53.605</td>\n      <td>70000.0</td>\n      <td>United States</td>\n      <td>94133</td>\n      <td>Microsoft SQL Server</td>\n      <td>3</td>\n      <td>Microsoft Access</td>\n      <td>Full time employee</td>\n      <td>Analyst</td>\n      <td>...</td>\n      <td>SQL Server 2016</td>\n      <td>SQL Server 2012</td>\n      <td>1M+ (metropolis)</td>\n      <td>Private business</td>\n      <td>Not Asked</td>\n      <td>Change both employers and roles</td>\n      <td>Male</td>\n      <td>Not Asked</td>\n      <td>Not Asked</td>\n      <td>1</td>\n    </tr>\n    <tr>\n      <th>4</th>\n      <td>2020</td>\n      <td>2020-01-03 15:28:54.163</td>\n      <td>110000.0</td>\n      <td>United States</td>\n      <td>95354</td>\n      <td>Oracle</td>\n      <td>30</td>\n      <td>Microsoft SQL Server, Oracle, MySQL/MariaDB, P...</td>\n      <td>Full time employee</td>\n      <td>DBA (General - splits time evenly between writ...</td>\n      <td>...</td>\n      <td>SQL Server 2016</td>\n      <td>SQL Server 2008R2</td>\n      <td>100K-299K (city)</td>\n      <td>Non-profit</td>\n      <td>Not Asked</td>\n      <td>Stay with the same employer, same role</td>\n      <td>Male</td>\n      <td>Not Asked</td>\n      <td>Not Asked</td>\n      <td>1</td>\n    </tr>\n    <tr>\n      <th>5</th>\n      <td>2020</td>\n      <td>2020-01-03 15:06:14.882</td>\n      <td>79500.0</td>\n      <td>United States</td>\n      <td>78727</td>\n      <td>Oracle</td>\n      <td>2</td>\n      <td>NaN</td>\n      <td>Full time employee</td>\n      <td>Analyst</td>\n      <td>...</td>\n      <td>Oracle R12</td>\n      <td>Oracle 11g</td>\n      <td>1M+ (metropolis)</td>\n      <td>Private business</td>\n      <td>Not Asked</td>\n      <td>Stay with the same employer, same role</td>\n      <td>Male</td>\n      <td>Not Asked</td>\n      <td>Not Asked</td>\n      <td>1</td>\n    </tr>\n  </tbody>\n</table>\n<p>5 rows × 31 columns</p>\n</div>"
     },
     "metadata": {},
     "execution_count": 10
    }
   ],
   "source": [
    "\n",
    "df1 = df1[df1.Country == \"United States\"]\n",
    "df1.head()"
   ]
  },
  {
   "source": [
    "## Sélection des colonnes"
   ],
   "cell_type": "markdown",
   "metadata": {}
  },
  {
   "cell_type": "code",
   "execution_count": 11,
   "metadata": {},
   "outputs": [
    {
     "output_type": "execute_result",
     "data": {
      "text/plain": [
       "   SalaryUSD PostalCode Gender    EmploymentStatus  \\\n",
       "0   115000.0         03   Male  Full time employee   \n",
       "1   100000.0        NaN   Male  Full time employee   \n",
       "3    70000.0      94133   Male  Full time employee   \n",
       "4   110000.0      95354   Male  Full time employee   \n",
       "5    79500.0      78727   Male  Full time employee   \n",
       "\n",
       "                                            JobTitle  YearsWithThisTypeOfJob  \\\n",
       "0  DBA (Production Focus - build & troubleshoot s...                       5   \n",
       "1                  Developer: App code (C#, JS, etc)                       6   \n",
       "3                                            Analyst                       3   \n",
       "4  DBA (General - splits time evenly between writ...                      25   \n",
       "5                                            Analyst                       2   \n",
       "\n",
       "                                    HowManyCompanies OtherPeopleOnYourTeam  \n",
       "0  1 (this is the only company where I've had thi...                     2  \n",
       "1  1 (this is the only company where I've had thi...           More than 5  \n",
       "3  1 (this is the only company where I've had thi...                     2  \n",
       "4                                                  3                  None  \n",
       "5  1 (this is the only company where I've had thi...                  None  "
      ],
      "text/html": "<div>\n<style scoped>\n    .dataframe tbody tr th:only-of-type {\n        vertical-align: middle;\n    }\n\n    .dataframe tbody tr th {\n        vertical-align: top;\n    }\n\n    .dataframe thead th {\n        text-align: right;\n    }\n</style>\n<table border=\"1\" class=\"dataframe\">\n  <thead>\n    <tr style=\"text-align: right;\">\n      <th></th>\n      <th>SalaryUSD</th>\n      <th>PostalCode</th>\n      <th>Gender</th>\n      <th>EmploymentStatus</th>\n      <th>JobTitle</th>\n      <th>YearsWithThisTypeOfJob</th>\n      <th>HowManyCompanies</th>\n      <th>OtherPeopleOnYourTeam</th>\n    </tr>\n  </thead>\n  <tbody>\n    <tr>\n      <th>0</th>\n      <td>115000.0</td>\n      <td>03</td>\n      <td>Male</td>\n      <td>Full time employee</td>\n      <td>DBA (Production Focus - build &amp; troubleshoot s...</td>\n      <td>5</td>\n      <td>1 (this is the only company where I've had thi...</td>\n      <td>2</td>\n    </tr>\n    <tr>\n      <th>1</th>\n      <td>100000.0</td>\n      <td>NaN</td>\n      <td>Male</td>\n      <td>Full time employee</td>\n      <td>Developer: App code (C#, JS, etc)</td>\n      <td>6</td>\n      <td>1 (this is the only company where I've had thi...</td>\n      <td>More than 5</td>\n    </tr>\n    <tr>\n      <th>3</th>\n      <td>70000.0</td>\n      <td>94133</td>\n      <td>Male</td>\n      <td>Full time employee</td>\n      <td>Analyst</td>\n      <td>3</td>\n      <td>1 (this is the only company where I've had thi...</td>\n      <td>2</td>\n    </tr>\n    <tr>\n      <th>4</th>\n      <td>110000.0</td>\n      <td>95354</td>\n      <td>Male</td>\n      <td>Full time employee</td>\n      <td>DBA (General - splits time evenly between writ...</td>\n      <td>25</td>\n      <td>3</td>\n      <td>None</td>\n    </tr>\n    <tr>\n      <th>5</th>\n      <td>79500.0</td>\n      <td>78727</td>\n      <td>Male</td>\n      <td>Full time employee</td>\n      <td>Analyst</td>\n      <td>2</td>\n      <td>1 (this is the only company where I've had thi...</td>\n      <td>None</td>\n    </tr>\n  </tbody>\n</table>\n</div>"
     },
     "metadata": {},
     "execution_count": 11
    }
   ],
   "source": [
    "df1 = df1[\n",
    "    [\"SalaryUSD\",\n",
    "     \"PostalCode\",\n",
    "     \"Gender\",\n",
    "     \"EmploymentStatus\",\n",
    "     \"JobTitle\",\n",
    "     \"YearsWithThisTypeOfJob\",\n",
    "     \"HowManyCompanies\",\n",
    "     \"OtherPeopleOnYourTeam\"]\n",
    "]\n",
    "df1.head()"
   ]
  },
  {
   "source": [
    "## Recherche des valeurs manquantes"
   ],
   "cell_type": "markdown",
   "metadata": {}
  },
  {
   "cell_type": "code",
   "execution_count": 12,
   "metadata": {},
   "outputs": [
    {
     "output_type": "stream",
     "name": "stdout",
     "text": [
      "SalaryUSD                   0\nPostalCode                466\nGender                      0\nEmploymentStatus            0\nJobTitle                    0\nYearsWithThisTypeOfJob      0\nHowManyCompanies            0\nOtherPeopleOnYourTeam       0\ndtype: int64\n(5680, 8)\n"
     ]
    }
   ],
   "source": [
    "print(df1.isnull().sum()) \n",
    "print(df1.shape)"
   ]
  },
  {
   "source": [
    "466 codes postaux sont manquants\n"
   ],
   "cell_type": "markdown",
   "metadata": {}
  }
 ]
}